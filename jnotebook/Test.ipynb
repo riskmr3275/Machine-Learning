{
 "cells": [
  {
   "cell_type": "code",
   "execution_count": 3,
   "id": "96ed3891-633b-45fc-9d7d-07567c172ca7",
   "metadata": {},
   "outputs": [
    {
     "name": "stdout",
     "output_type": "stream",
     "text": [
      "Hello \n"
     ]
    }
   ],
   "source": [
    "print(\"Hello \")\n"
   ]
  },
  {
   "cell_type": "code",
   "execution_count": 9,
   "id": "e14724dd-566e-4561-bbe2-bc53f69d9d4f",
   "metadata": {},
   "outputs": [
    {
     "name": "stdin",
     "output_type": "stream",
     "text": [
      "Enter Your Name efw\n"
     ]
    },
    {
     "name": "stdout",
     "output_type": "stream",
     "text": [
      "Your Name is  efw\n"
     ]
    }
   ],
   "source": [
    "name=str(input(\"Enter Your Name\"))\n",
    "print(\"Your Name is \",name)"
   ]
  },
  {
   "cell_type": "markdown",
   "id": "00b66bb1-8415-4c30-9427-1f03fb82d23b",
   "metadata": {},
   "source": [
    "# Pandas\n"
   ]
  },
  {
   "cell_type": "code",
   "execution_count": 14,
   "id": "1d441977-a89a-4b97-a36f-0fb3d1ead86f",
   "metadata": {},
   "outputs": [],
   "source": [
    "import pandas as pd"
   ]
  },
  {
   "cell_type": "code",
   "execution_count": 43,
   "id": "b3d86d8d-48a5-42bd-9176-303967fc4bae",
   "metadata": {},
   "outputs": [],
   "source": [
    "df=pd.read_csv('boxoffice_data_2024.csv')"
   ]
  },
  {
   "cell_type": "code",
   "execution_count": 45,
   "id": "6fbc468e-7e1e-4af5-9858-29263677c2bf",
   "metadata": {},
   "outputs": [
    {
     "name": "stdout",
     "output_type": "stream",
     "text": [
      "      Year                                          Title         Gross\n",
      "0     1984                              Beverly Hills Cop  $234,760,478\n",
      "1     1984                                   Ghostbusters  $229,376,332\n",
      "2     1984           Indiana Jones and the Temple of Doom  $179,876,727\n",
      "3     1984                                       Gremlins  $148,171,538\n",
      "4     1984                                 The Karate Kid   $90,817,155\n",
      "...    ...                                            ...           ...\n",
      "8140  2024                            Irklais per Atlanta    $1,402,306\n",
      "8141  2024                                     Bramayugam    $1,388,375\n",
      "8142  2024                                  White Courage    $1,373,237\n",
      "8143  2024  National Theatre Live: The Motive and the Cue    $1,338,772\n",
      "8144  2024                            Escape from Germany    $1,321,364\n",
      "\n",
      "[8145 rows x 3 columns]\n"
     ]
    }
   ],
   "source": [
    "print(df)"
   ]
  },
  {
   "cell_type": "code",
   "execution_count": null,
   "id": "ccf14ed6-deaf-4b46-844d-4b22fbfc3f42",
   "metadata": {},
   "outputs": [],
   "source": []
  }
 ],
 "metadata": {
  "kernelspec": {
   "display_name": "Python [conda env:base] *",
   "language": "python",
   "name": "conda-base-py"
  },
  "language_info": {
   "codemirror_mode": {
    "name": "ipython",
    "version": 3
   },
   "file_extension": ".py",
   "mimetype": "text/x-python",
   "name": "python",
   "nbconvert_exporter": "python",
   "pygments_lexer": "ipython3",
   "version": "3.12.7"
  }
 },
 "nbformat": 4,
 "nbformat_minor": 5
}
