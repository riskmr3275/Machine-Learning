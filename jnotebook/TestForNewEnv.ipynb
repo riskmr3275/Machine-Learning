{
 "cells": [
  {
   "cell_type": "code",
   "execution_count": 1,
   "id": "06f6db2b-a746-470e-8b2d-4e0e751ce594",
   "metadata": {},
   "outputs": [],
   "source": [
    "import pandas as pd"
   ]
  },
  {
   "cell_type": "code",
   "execution_count": 3,
   "id": "762f7b09-b96e-47c1-b209-722ba45215df",
   "metadata": {},
   "outputs": [],
   "source": [
    "df=pd.read_csv('boxoffice_data_2024.csv')"
   ]
  },
  {
   "cell_type": "code",
   "execution_count": 5,
   "id": "733686d8-4ae7-4d75-ab5b-43d48d7660ab",
   "metadata": {},
   "outputs": [
    {
     "name": "stdout",
     "output_type": "stream",
     "text": [
      "      Year                                          Title         Gross\n",
      "0     1984                              Beverly Hills Cop  $234,760,478\n",
      "1     1984                                   Ghostbusters  $229,376,332\n",
      "2     1984           Indiana Jones and the Temple of Doom  $179,876,727\n",
      "3     1984                                       Gremlins  $148,171,538\n",
      "4     1984                                 The Karate Kid   $90,817,155\n",
      "...    ...                                            ...           ...\n",
      "8140  2024                            Irklais per Atlanta    $1,402,306\n",
      "8141  2024                                     Bramayugam    $1,388,375\n",
      "8142  2024                                  White Courage    $1,373,237\n",
      "8143  2024  National Theatre Live: The Motive and the Cue    $1,338,772\n",
      "8144  2024                            Escape from Germany    $1,321,364\n",
      "\n",
      "[8145 rows x 3 columns]\n"
     ]
    }
   ],
   "source": [
    "print(df)"
   ]
  },
  {
   "cell_type": "code",
   "execution_count": null,
   "id": "b586cafc-5f3f-47c6-af35-4617986e6e27",
   "metadata": {},
   "outputs": [],
   "source": []
  },
  {
   "cell_type": "code",
   "execution_count": null,
   "id": "9331a613-11a7-4c47-b29f-72392d212883",
   "metadata": {},
   "outputs": [],
   "source": []
  }
 ],
 "metadata": {
  "kernelspec": {
   "display_name": "Python 3 (ipykernel)",
   "language": "python",
   "name": "python3"
  },
  "language_info": {
   "codemirror_mode": {
    "name": "ipython",
    "version": 3
   },
   "file_extension": ".py",
   "mimetype": "text/x-python",
   "name": "python",
   "nbconvert_exporter": "python",
   "pygments_lexer": "ipython3",
   "version": "3.12.8"
  }
 },
 "nbformat": 4,
 "nbformat_minor": 5
}
