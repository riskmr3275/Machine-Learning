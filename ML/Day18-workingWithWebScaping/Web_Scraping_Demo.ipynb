{
 "cells": [
  {
   "cell_type": "code",
   "execution_count": 65,
   "id": "50520526-c812-40d5-be1a-d0cc56663513",
   "metadata": {},
   "outputs": [],
   "source": [
    "import pandas as pd\n",
    "import requests\n",
    "from bs4 import BeautifulSoup"
   ]
  },
  {
   "cell_type": "code",
   "execution_count": 67,
   "id": "c6eed830-157b-47f1-8cce-58ad4bacba94",
   "metadata": {},
   "outputs": [
    {
     "name": "stdout",
     "output_type": "stream",
     "text": [
      "HELLPR WRLD\n"
     ]
    }
   ],
   "source": [
    "print(\"HELLPR WRLD\")"
   ]
  },
  {
   "cell_type": "code",
   "execution_count": null,
   "id": "be46f051-ec1f-4680-8455-c4f45de2e2c8",
   "metadata": {},
   "outputs": [],
   "source": [
    "headers = {\n",
    "    'User-Agent': 'Mozilla/5.0 (Windows NT 10.0; Win64; x64) AppleWebKit/537.36 (KHTML, like Gecko) Chrome/115.0.0.0 Safari/537.36'\n",
    "}\n",
    "webpage = requests.get('https://www.justdial.com/Bhopal/Book-Shops/nct-10052997?trkid=5964-remotecity-fcat&term=',headers=headers).text\n",
    "print(webpage)"
   ]
  },
  {
   "cell_type": "code",
   "execution_count": null,
   "id": "ae3f7fac-f06a-42ea-a6f7-2aed8a5a4eea",
   "metadata": {},
   "outputs": [],
   "source": [
    "soup=BeautifulSoup(webpage,'lxml')"
   ]
  },
  {
   "cell_type": "code",
   "execution_count": null,
   "id": "08ec2be7-0bc8-4bd7-9c07-8d219b77d9c5",
   "metadata": {},
   "outputs": [],
   "source": [
    "print(soup)"
   ]
  },
  {
   "cell_type": "code",
   "execution_count": null,
   "id": "2ff6e4b4-10c6-4052-8017-e98cb85c5459",
   "metadata": {},
   "outputs": [],
   "source": []
  }
 ],
 "metadata": {
  "kernelspec": {
   "display_name": "Python [conda env:base] *",
   "language": "python",
   "name": "conda-base-py"
  },
  "language_info": {
   "codemirror_mode": {
    "name": "ipython",
    "version": 3
   },
   "file_extension": ".py",
   "mimetype": "text/x-python",
   "name": "python",
   "nbconvert_exporter": "python",
   "pygments_lexer": "ipython3",
   "version": "3.12.7"
  }
 },
 "nbformat": 4,
 "nbformat_minor": 5
}
