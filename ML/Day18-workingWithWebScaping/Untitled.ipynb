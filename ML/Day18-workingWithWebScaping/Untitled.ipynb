{
 "cells": [
  {
   "cell_type": "code",
   "execution_count": 18,
   "id": "6082f298-2105-411a-95c8-38f2eeb0cdbb",
   "metadata": {},
   "outputs": [
    {
     "name": "stdout",
     "output_type": "stream",
     "text": [
      "jsds\n"
     ]
    }
   ],
   "source": [
    "print(\"jsds\")\n",
    "import pandas as pd\n",
    "import requests\n",
    "from bs4 import BeautifulSoup"
   ]
  },
  {
   "cell_type": "code",
   "execution_count": 86,
   "id": "5f7d2855-1339-4050-a472-c2791ffa5130",
   "metadata": {},
   "outputs": [],
   "source": [
    "from selenium import webdriver\n",
    "\n",
    "driver = webdriver.Chrome()  # Ensure you have the ChromeDriver installed\n",
    "driver.get('https://www.justdial.com/Bhopal/Book-Shops/nct-10052997?trkid=5964-remotecity-fcat&term=')\n",
    "webpage = driver.page_source\n",
    "\n",
    "driver.quit()\n"
   ]
  },
  {
   "cell_type": "code",
   "execution_count": 88,
   "id": "508cd6a2-6437-47e7-b4c7-1e1f64759d9b",
   "metadata": {},
   "outputs": [],
   "source": [
    "soup=BeautifulSoup(webpage,'lxml')"
   ]
  },
  {
   "cell_type": "code",
   "execution_count": 96,
   "id": "31805c8d-0e35-4182-8f04-1d4d5f9e0987",
   "metadata": {},
   "outputs": [
    {
     "data": {
      "text/plain": [
       "10"
      ]
     },
     "execution_count": 96,
     "metadata": {},
     "output_type": "execute_result"
    }
   ],
   "source": [
    "AllShop=soup.find_all('div',class_=\"resultbox_textbox\")\n",
    "len(title)"
   ]
  },
  {
   "cell_type": "code",
   "execution_count": 170,
   "id": "5d5a2bf4-affa-4bfd-b1c8-31b1f982f71c",
   "metadata": {},
   "outputs": [],
   "source": [
    "Shop = []\n",
    "Rating = []\n",
    "RatingCount = []\n",
    "City = []\n",
    "Contact=[]\n",
    "for i in AllShop:\n",
    "    shop = i.find('div', class_=\"resultbox_title_anchor\")\n",
    "    rating = i.find('div', class_=\"resultbox_totalrate\")\n",
    "    rating_count = i.find('div', class_=\"resultbox_countrate\")\n",
    "    temp = i.find('div', class_=\"locatcity\")\n",
    "    temp1 = i.find('span', class_=\"callcontent\")\n",
    "\n",
    "    Shop.append(shop.text.strip() if shop else \"Shop Not Found\")\n",
    "    Rating.append(rating.text.strip() if rating else \"Rating Not Found\")\n",
    "    RatingCount.append(rating_count.text.strip() if rating_count else \"Count Not Found\")\n",
    "    City.append(temp.text.strip() if temp else \"City Not Found\")\n",
    "    Contact.append(temp1.text.strip() if temp else \"Contact Not Found\")\n"
   ]
  },
  {
   "cell_type": "code",
   "execution_count": 172,
   "id": "a7476147-1523-4f45-8e9a-eebca5c5f6a7",
   "metadata": {},
   "outputs": [
    {
     "data": {
      "text/plain": [
       "['08401447564',\n",
       " 'Show Number',\n",
       " 'Show Number',\n",
       " 'Show Number',\n",
       " 'Contact Not Found',\n",
       " 'Show Number',\n",
       " 'Show Number',\n",
       " 'Show Number',\n",
       " 'Show Number',\n",
       " 'Show Number']"
      ]
     },
     "execution_count": 172,
     "metadata": {},
     "output_type": "execute_result"
    }
   ],
   "source": [
    "Contact"
   ]
  },
  {
   "cell_type": "code",
   "execution_count": null,
   "id": "f6f33f4e-1bfb-4896-8250-c861b084eb08",
   "metadata": {},
   "outputs": [],
   "source": []
  }
 ],
 "metadata": {
  "kernelspec": {
   "display_name": "Python [conda env:base] *",
   "language": "python",
   "name": "conda-base-py"
  },
  "language_info": {
   "codemirror_mode": {
    "name": "ipython",
    "version": 3
   },
   "file_extension": ".py",
   "mimetype": "text/x-python",
   "name": "python",
   "nbconvert_exporter": "python",
   "pygments_lexer": "ipython3",
   "version": "3.12.7"
  }
 },
 "nbformat": 4,
 "nbformat_minor": 5
}
